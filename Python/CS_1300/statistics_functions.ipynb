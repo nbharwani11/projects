{
 "cells": [
  {
   "cell_type": "markdown",
   "metadata": {},
   "source": [
    "# CSPB 1300\n",
    "# Statistics Functions"
   ]
  },
  {
   "cell_type": "markdown",
   "metadata": {},
   "source": [
    "### Name:"
   ]
  },
  {
   "cell_type": "markdown",
   "metadata": {},
   "source": [
    "<span style=\"color:red\">NAUREEN BHARWANI</span>"
   ]
  },
  {
   "cell_type": "markdown",
   "metadata": {},
   "source": [
    "---\n",
    "### Overview\n",
    "In this notebook, you will get some practice creating functions and reusing those functions from within other functions. Our functions will calculate basic statistics from data. Although there are built-in functions and modules in Python that allow us to compute these statistics easily, we will instead be performing the calculations ourselves. We will also get some practice reading in data from a file on our computer.\n",
    "\n",
    "NOTE: You are **NOT** allowed to use any of Python's built-in math functions such as `sum` or any of the functions from Python modules such as `math` or `statistics` in any of your user-defined functions in this assignment. You will not get any credit for the function if you do.\n",
    "\n",
    "Enter your code in the code cells marked `YOUR CODE HERE`. The code cells below your code contain a simple way to print the result of your code and also a simple sanity check to ensure your result matches the expected result. You do not have to modify those cells, but just have to run them. If your code produces the expected result, you will not see any error messages below the sanity check code cell and only a \"Pass\".\n",
    "\n",
    "Make sure the `data.csv` file is contained in the same folder as this Jupyter Notebook before attempting to read from the file.\n",
    "\n",
    "Since each of the parts below depend on the code above them, you should work on this notebook in order. Also, every time you open this notebook or restart the kernel, you should re-execute all of the code cells above the cell you are currently working on. For example, all of the tests and sanity checks for the functions defined in this notebook depend on the `data` variable that is defined in first code cell below in the File Processing section. Therefore, if this code cell isn't re-executed every time you reopen this notebook or restart the kernel, then you will get an error message that the `data` variable is not found. Also, most of the functions invoke/call other functions you've defined in this notebook. The easiest thing to do is to go to the `Kernel` menu above and select `Restart & Run All` to completely restart the kernel session and run all of the cells in the notebook from top to bottom each time you come back to this notebook.\n",
    "\n",
    "Lastly, your code will be graded and run using a different dataset than the one provided so do **NOT** attempt to hardcode your answers. The grader is also going to check to ensure that the restricted functions and modules *were not* used and also that the required functions *were* used where specified."
   ]
  },
  {
   "cell_type": "markdown",
   "metadata": {},
   "source": [
    "---\n",
    "### File Processing\n",
    "Read in the comma-separated values file called `data.csv` into a list object named `data`. You are allowed to use Python's built-in string methods such as `split`, `strip`, etc. The final value of data should be a single dimension list of floating point values contained in the file. For example, your list should be of the form `[1.1, 2.5, etc.]` (i.e. a list of floats) and not something like `[[1.1, 2,5], [2.2, 3.6], etc.]` (i.e. a list of lists). Note that the values in the file are separated by commas, but you'll have to take into account that they are contained on several lines. Also, your code should allow for any number of rows and columns in the file as it will be tested using a different dataset."
   ]
  },
  {
   "cell_type": "code",
   "execution_count": 1,
   "metadata": {},
   "outputs": [],
   "source": [
    "file = open(\"data.csv\", \"r\")\n",
    "data = []\n",
    "for line in file.readlines():\n",
    "    file = line.strip().split(\",\")\n",
    "    for num in file:\n",
    "        data.append(float(num))\n"
   ]
  },
  {
   "cell_type": "code",
   "execution_count": 2,
   "metadata": {
    "deletable": false,
    "editable": false,
    "scrolled": true
   },
   "outputs": [
    {
     "name": "stdout",
     "output_type": "stream",
     "text": [
      "[142.52, 114.28, 126.26, 152.39, 144.66, 85.77, 125.67, 102.87, 103.86, 114.5, 108.98, 136.1, 121.75, 108.52, 115.19, 112.91, 136.93, 101.75, 112.48, 88.32, 53.15, 119.53, 123.89, 90.64, 152.98, 75.89, 106.95, 102.13, 137.73, 136.42, 109.21, 113.83, 87.62, 65.0, 98.8, 109.24, 131.47, 130.89, 97.98, 99.74, 84.29, 76.61, 70.68, 146.38, 95.45, 96.93, 80.07, 122.09, 72.59, 101.6, 87.46, 114.01, 95.43, 81.56, 105.42, 114.87, 107.38, 112.26, 92.87, 98.49, 92.08, 98.56, 89.17, 70.27, 109.67, 97.68, 72.25, 115.58, 87.22, 107.08, 121.09, 108.67, 129.59, 80.44, 114.33, 91.82, 87.97, 94.02, 99.55, 107.16, 81.88, 124.65, 115.64, 74.2, 136.81, 145.24, 130.4, 102.28, 83.84, 127.83, 97.65, 131.3, 110.31, 126.22, 113.38, 120.63, 106.22, 142.97, 108.63, 114.32]\n"
     ]
    }
   ],
   "source": [
    "# Run this cell to print the data\n",
    "print(data)"
   ]
  },
  {
   "cell_type": "code",
   "execution_count": 3,
   "metadata": {
    "deletable": false,
    "editable": false
   },
   "outputs": [
    {
     "name": "stdout",
     "output_type": "stream",
     "text": [
      "Pass\n"
     ]
    }
   ],
   "source": [
    "# Run this cell to perform a sanity check\n",
    "assert [round(item, 2) for item in data] == [142.52, 114.28, 126.26, 152.39, 144.66, 85.77, 125.67, 102.87, 103.86, 114.5, 108.98, 136.1, 121.75, 108.52, 115.19, 112.91, 136.93, 101.75, 112.48, 88.32, 53.15, 119.53, 123.89, 90.64, 152.98, 75.89, 106.95, 102.13, 137.73, 136.42, 109.21, 113.83, 87.62, 65.0, 98.8, 109.24, 131.47, 130.89, 97.98, 99.74, 84.29, 76.61, 70.68, 146.38, 95.45, 96.93, 80.07, 122.09, 72.59, 101.6, 87.46, 114.01, 95.43, 81.56, 105.42, 114.87, 107.38, 112.26, 92.87, 98.49, 92.08, 98.56, 89.17, 70.27, 109.67, 97.68, 72.25, 115.58, 87.22, 107.08, 121.09, 108.67, 129.59, 80.44, 114.33, 91.82, 87.97, 94.02, 99.55, 107.16, 81.88, 124.65, 115.64, 74.2, 136.81, 145.24, 130.4, 102.28, 83.84, 127.83, 97.65, 131.3, 110.31, 126.22, 113.38, 120.63, 106.22, 142.97, 108.63, 114.32], 'Incorrect result'\n",
    "print(\"Pass\")"
   ]
  },
  {
   "cell_type": "code",
   "execution_count": 4,
   "metadata": {},
   "outputs": [
    {
     "data": {
      "image/png": "[encoded data removed]",
      "text/plain": [
       "<Figure size 432x288 with 1 Axes>"
      ]
     },
     "metadata": {
      "needs_background": "light"
     },
     "output_type": "display_data"
    }
   ],
   "source": [
    "# Run this cell to plot a histogram of the data\n",
    "import matplotlib.pyplot as plt\n",
    "plt.hist(data)\n",
    "plt.title('Histogram of Data')\n",
    "plt.xlabel('Values')\n",
    "plt.ylabel('Count');"
   ]
  },
  {
   "cell_type": "markdown",
   "metadata": {},
   "source": [
    "---\n",
    "### Sum\n",
    "Define a function called `calc_sum`. This function should accept one input parameter named `numbers`. The function should caculate the sum of the numbers in the input list and return the result. You are **NOT** allowed to use Python's built-in `sum` function.\n",
    "\n",
    "$$ sum = \\sum_{i=1}^{N}{x_i} $$\n",
    "\n",
    "Reference: https://www.mathsisfun.com/algebra/sigma-notation.html"
   ]
  },
  {
   "cell_type": "code",
   "execution_count": 4,
   "metadata": {},
   "outputs": [],
   "source": [
    "def calc_sum(numbers):\n",
    "    sum = 0\n",
    "    for num in numbers:\n",
    "        sum = sum + num\n",
    "    return sum\n",
    "    \n",
    "# value = calc_sum(data)\n"
   ]
  },
  {
   "cell_type": "code",
   "execution_count": 5,
   "metadata": {
    "deletable": false,
    "editable": false
   },
   "outputs": [
    {
     "name": "stdout",
     "output_type": "stream",
     "text": [
      "10723.839999999993\n"
     ]
    }
   ],
   "source": [
    "# Run this cell to test your function with the data\n",
    "print(calc_sum(data))"
   ]
  },
  {
   "cell_type": "code",
   "execution_count": 6,
   "metadata": {
    "deletable": false,
    "editable": false
   },
   "outputs": [
    {
     "name": "stdout",
     "output_type": "stream",
     "text": [
      "Pass\n"
     ]
    }
   ],
   "source": [
    "# Run this cell to perform a sanity check\n",
    "assert round(calc_sum(data), 2) == round(sum(data), 2), 'Incorrect result'\n",
    "print(\"Pass\")"
   ]
  },
  {
   "cell_type": "markdown",
   "metadata": {},
   "source": [
    "---\n",
    "### Mean\n",
    "Define a function called `calc_mean`. This function should accept one input parameter named `numbers`. This function should calculate the arithmetic mean of the numbers in the input list and return the result. This function **MUST** invoke/call the `calc_sum` function from within its function body. You are **NOT** allowed to use Python's built-in `sum` function or Python's modules such as `statistics`.\n",
    "\n",
    "$$ mean = \\frac{1}{N} \\sum_{i=1}^{N}{x_i} $$\n",
    "\n",
    "Reference: https://www.mathsisfun.com/mean.html"
   ]
  },
  {
   "cell_type": "code",
   "execution_count": 8,
   "metadata": {},
   "outputs": [],
   "source": [
    "def calc_mean(numbers):\n",
    "    sum = 0\n",
    "    count = 0\n",
    "    for num in numbers:\n",
    "        sum = sum + num\n",
    "        count = count + 1\n",
    "    mean = (sum)/(count)\n",
    "    return mean\n",
    "    \n",
    "mean = calc_mean(data)\n",
    "    \n"
   ]
  },
  {
   "cell_type": "code",
   "execution_count": 9,
   "metadata": {
    "deletable": false,
    "editable": false
   },
   "outputs": [
    {
     "data": {
      "text/plain": [
       "107.23839999999993"
      ]
     },
     "execution_count": 9,
     "metadata": {},
     "output_type": "execute_result"
    }
   ],
   "source": [
    "# Run this cell to test your function with the data\n",
    "calc_mean(data)"
   ]
  },
  {
   "cell_type": "code",
   "execution_count": 10,
   "metadata": {
    "deletable": false,
    "editable": false
   },
   "outputs": [
    {
     "name": "stdout",
     "output_type": "stream",
     "text": [
      "Pass\n"
     ]
    }
   ],
   "source": [
    "# Run this cell to perform a sanity check\n",
    "import statistics\n",
    "assert round(calc_mean(data), 2) == round(statistics.mean(data), 2), 'Incorrect result'\n",
    "print(\"Pass\")"
   ]
  },
  {
   "cell_type": "markdown",
   "metadata": {},
   "source": [
    "---\n",
    "### Square\n",
    "Define a function called `calc_square`. This function should accept one input parameter named `number`. This function should square the input number and return the result.\n",
    "\n",
    "$$ square = x^2 $$"
   ]
  },
  {
   "cell_type": "code",
   "execution_count": 11,
   "metadata": {},
   "outputs": [],
   "source": [
    "def calc_square(number):\n",
    "    sq = (number ** 2)\n",
    "    return sq\n",
    "\n",
    "square = calc_square(data[0])\n"
   ]
  },
  {
   "cell_type": "code",
   "execution_count": 12,
   "metadata": {
    "deletable": false,
    "editable": false
   },
   "outputs": [
    {
     "data": {
      "text/plain": [
       "20311.9504"
      ]
     },
     "execution_count": 12,
     "metadata": {},
     "output_type": "execute_result"
    }
   ],
   "source": [
    "# Run this cell to test your function with the data\n",
    "calc_square(data[0])"
   ]
  },
  {
   "cell_type": "code",
   "execution_count": 13,
   "metadata": {
    "deletable": false,
    "editable": false
   },
   "outputs": [
    {
     "name": "stdout",
     "output_type": "stream",
     "text": [
      "Pass\n"
     ]
    }
   ],
   "source": [
    "# Run this cell to perform a sanity check\n",
    "import math\n",
    "assert round(calc_square(data[0]), 2) == round(math.pow(data[0], 2), 2), 'Incorrect result'\n",
    "print(\"Pass\")"
   ]
  },
  {
   "cell_type": "markdown",
   "metadata": {},
   "source": [
    "---\n",
    "### Variance\n",
    "Define a function called `calc_variance`. This function should accept one input parameter named `numbers`. This function should calculate the (population) variance of the input numbers and return the result. This function **MUST** invoke/call the `calc_mean` and `calc_square` functions from within its function body. You are **NOT** allowed to use Python's built-in `sum` function or Python's modules such as `statistics`.\n",
    "\n",
    "$$ variance = \\frac{1}{N} \\sum_{i=1}^{N}{(x_i - mean)^2} $$\n",
    "\n",
    "Reference: https://www.mathsisfun.com/data/standard-deviation.html"
   ]
  },
  {
   "cell_type": "code",
   "execution_count": 20,
   "metadata": {},
   "outputs": [],
   "source": [
    "def calc_variance(numbers):\n",
    "    count = 0\n",
    "    numerator = 0\n",
    "    for num in numbers:\n",
    "        numerator += calc_square(num - (calc_mean(numbers)))\n",
    "        count = count + 1                                   \n",
    "    var = (numerator) / (count)\n",
    "    return var\n",
    "\n",
    "variance = calc_variance(data)"
   ]
  },
  {
   "cell_type": "code",
   "execution_count": 21,
   "metadata": {
    "deletable": false,
    "editable": false
   },
   "outputs": [
    {
     "data": {
      "text/plain": [
       "435.2879914400002"
      ]
     },
     "execution_count": 21,
     "metadata": {},
     "output_type": "execute_result"
    }
   ],
   "source": [
    "# Run this cell to test your function with the data\n",
    "calc_variance(data)"
   ]
  },
  {
   "cell_type": "code",
   "execution_count": 22,
   "metadata": {
    "deletable": false,
    "editable": false
   },
   "outputs": [
    {
     "name": "stdout",
     "output_type": "stream",
     "text": [
      "Pass\n"
     ]
    }
   ],
   "source": [
    "# Run this cell to perform a sanity check\n",
    "import statistics\n",
    "assert round(calc_variance(data), 2) == round(statistics.pvariance(data), 2), 'Incorrect result'\n",
    "print(\"Pass\")"
   ]
  },
  {
   "cell_type": "markdown",
   "metadata": {},
   "source": [
    "---\n",
    "### Standard Deviation\n",
    "Define a function called `calc_std`. This function should accept one input parameter named `numbers`. This function should calculate the (population) standard deviation of the input numbers and return the result. This function **MUST** invoke/call the `calc_variance` function from within its function body. You are **NOT** allowed to use Python's built-in `sum` function or Python's modules such as `statistics`.\n",
    "\n",
    "$$ standard\\ deviation = \\sqrt{variance} $$\n",
    "\n",
    "Reference: https://www.mathsisfun.com/data/standard-deviation.html"
   ]
  },
  {
   "cell_type": "code",
   "execution_count": 23,
   "metadata": {},
   "outputs": [],
   "source": [
    "def calc_std(numbers):\n",
    "    std = (calc_variance(numbers) ** 0.5)\n",
    "    return std\n",
    "\n",
    "standard_deviance = calc_std(data)\n"
   ]
  },
  {
   "cell_type": "code",
   "execution_count": 24,
   "metadata": {
    "deletable": false,
    "editable": false
   },
   "outputs": [
    {
     "data": {
      "text/plain": [
       "20.86355653861537"
      ]
     },
     "execution_count": 24,
     "metadata": {},
     "output_type": "execute_result"
    }
   ],
   "source": [
    "# Run this cell to test your function with the data\n",
    "calc_std(data)"
   ]
  },
  {
   "cell_type": "code",
   "execution_count": 25,
   "metadata": {
    "deletable": false,
    "editable": false
   },
   "outputs": [
    {
     "name": "stdout",
     "output_type": "stream",
     "text": [
      "Pass\n"
     ]
    }
   ],
   "source": [
    "# Run this cell to perform a sanity check\n",
    "import statistics\n",
    "assert round(calc_std(data), 2) == round(statistics.pstdev(data), 2), 'Incorrect result'\n",
    "print(\"Pass\")"
   ]
  },
  {
   "cell_type": "markdown",
   "metadata": {},
   "source": [
    "---\n",
    "### Median (Optional challenge, not graded)\n",
    "If you'd like more of a challenge, you can try to create this extra function. Define a function called `calc_median`. This function should accept one input parameter named `numbers`. This function should calculate and return the median value from the input list of numbers. You will have to account for both even and odd length input lists. For even length lists, compute the mean of the two middle values. You are **NOT** allowed to use any of Python's built-in methods or a libraries for computing the median value.\n",
    "\n",
    "HINT: You may need to find a way to sort your numbers first. You can look into using Python's built-in methods for sorting (not covered in this class) or you can do research on sorting algorithms (e.g. [https://en.wikipedia.org/wiki/Sorting_algorithm](https://en.wikipedia.org/wiki/Sorting_algorithm)) and try your hand at coding one of these up yourself. Please cite your sources if you use any for your code. You will learn more about sorting algorithms in your Data Structures class."
   ]
  },
  {
   "cell_type": "code",
   "execution_count": 29,
   "metadata": {},
   "outputs": [
    {
     "name": "stdout",
     "output_type": "stream",
     "text": [
      "None\n"
     ]
    }
   ],
   "source": [
    "def calc_median(numbers):\n",
    "    nums_sorted = numbers.sort()\n",
    "    return (nums_sorted)\n",
    "\n",
    "median = print(calc_median(data))"
   ]
  },
  {
   "cell_type": "code",
   "execution_count": null,
   "metadata": {
    "deletable": false,
    "editable": false
   },
   "outputs": [],
   "source": [
    "# Run this cell to test your function with the data\n",
    "calc_median(data)"
   ]
  },
  {
   "cell_type": "code",
   "execution_count": null,
   "metadata": {
    "deletable": false,
    "editable": false
   },
   "outputs": [],
   "source": [
    "# Run this cell to perform a sanity check\n",
    "import statistics\n",
    "assert round(calc_median(data), 2) == round(statistics.median(data), 2), 'Incorrect result'\n",
    "print(\"Pass\")"
   ]
  }
 ],
 "metadata": {
  "kernelspec": {
   "display_name": "Python 3",
   "language": "python",
   "name": "python3"
  },
  "language_info": {
   "codemirror_mode": {
    "name": "ipython",
    "version": 3
   },
   "file_extension": ".py",
   "mimetype": "text/x-python",
   "name": "python",
   "nbconvert_exporter": "python",
   "pygments_lexer": "ipython3",
   "version": "3.8.6"
  }
 },
 "nbformat": 4,
 "nbformat_minor": 4
}
